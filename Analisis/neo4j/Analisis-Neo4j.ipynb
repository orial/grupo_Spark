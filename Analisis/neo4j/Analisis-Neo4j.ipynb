{
 "cells": [
  {
   "cell_type": "markdown",
   "metadata": {},
   "source": [
    "# Análisis de datos con Python y Neo4j"
   ]
  },
  {
   "cell_type": "code",
   "execution_count": null,
   "metadata": {
    "collapsed": true,
    "scrolled": true
   },
   "outputs": [],
   "source": [
    "%config IPCompleter.greedy=True\n",
    "\n",
    "# En primer lugar instalamos el driver de Neo4J para python\n",
    "!pip install neo4j-driver\n",
    "# Y pandas para la visualización\n",
    "!pip install pandas\n",
    "# Y para las gráficas, matplot\n",
    "!pip install matplotlib"
   ]
  },
  {
   "cell_type": "code",
   "execution_count": 2,
   "metadata": {
    "collapsed": true
   },
   "outputs": [],
   "source": [
    "# Tras esto, importamos nuestro conector y otras librerías\n",
    "from neo4jConnector import Neo4JConnector\n",
    "import pandas as pd\n",
    "import matplotlib.pyplot as plt"
   ]
  },
  {
   "cell_type": "markdown",
   "metadata": {},
   "source": [
    "## Connector Neo4j\n",
    "\n",
    "El conector está basado en el driver oficial de Neo4J para **Python**. Esto ha implicado una transformación de las funciones por defecto para poder obtener resultados que sean útiles más tarde para nuestra aplicación.\n",
    "\n",
    "## Estructura de datos\n",
    "### Tipos en neo4j.v1\n",
    "\n",
    "En Neo4j existen dos tipos de entidades sobre las que se basa el sistema de almacenamiento de datos: *nodos* y *relaciones*. Lo que significa que dentro del propio driver se han creado clases específicas para estos elementos."
   ]
  },
  {
   "cell_type": "code",
   "execution_count": 3,
   "metadata": {
    "collapsed": true
   },
   "outputs": [],
   "source": [
    "# Conectamos con la base de datos\n",
    "h = Neo4JConnector('bolt://localhost:7687','test','4321')"
   ]
  },
  {
   "cell_type": "code",
   "execution_count": 4,
   "metadata": {},
   "outputs": [
    {
     "name": "stdout",
     "output_type": "stream",
     "text": [
      "<neo4j.v1.result.BoltStatementResult object at 0x13C2E910>\n"
     ]
    }
   ],
   "source": [
    "# Se ha mantenido una función inicial customizable para mostrar los datos\n",
    "records = h.select_custom_original(\"MATCH (N:INCIDENT)-[R]->(C) RETURN N,R,id(C) LIMIT 1\")\n",
    "print(records)"
   ]
  },
  {
   "cell_type": "markdown",
   "metadata": {},
   "source": [
    "Como se puede comprobar, el tipo de resultado es un *BoltStatementResult*, que según nuestra query, debería contener tres objetos por cada fila obtenida."
   ]
  },
  {
   "cell_type": "code",
   "execution_count": 5,
   "metadata": {},
   "outputs": [
    {
     "name": "stdout",
     "output_type": "stream",
     "text": [
      "N -> <Node id=0 labels={'INCIDENT'} properties={'description': 'WARRANT ARREST', 'incidentNum': 3979}>\n",
      "R -> <Relationship id=3 start=0 end=3 type='STATUS' properties={}>\n",
      "id(C) -> 3\n"
     ]
    }
   ],
   "source": [
    "# Iteramos sobre cada fila del objeto record\n",
    "for element in iter(records):\n",
    "    for k,v in element.items():\n",
    "        print(k,'->',v)"
   ]
  },
  {
   "cell_type": "markdown",
   "metadata": {},
   "source": [
    "Gracias a la función Type, confirmamos la existencia de dos clases específicas para cada tipo de objeto Neo4J. Obtener los datos de cada una de estas estructuras no es trivial, y más cuando se desea utilizar en una aplicación con vistas para el usuario.\n",
    "\n",
    "Es por ello que se ha desarrollado la función **result_as_list**, la cual devuelve una lista de diccionarios con cada fila obtenida, que distingue a los objetos obtenidos en las llamadas mediante sus **_apodos_**. (Por defecto, *N* para nodos, *R* para relaciones)\n",
    "\n",
    "Un ejemplo de esto sería la función personalizada **select_limit**: Acepta como máximo dos argumentos, un nombre de etiqueta para el tipo de nodo que se desea recuperar, y el número de filas que debe devolver. El objeto resultado *BoltStatementResult* es parseado y convertido a un formato más simple."
   ]
  },
  {
   "cell_type": "code",
   "execution_count": 6,
   "metadata": {},
   "outputs": [
    {
     "data": {
      "text/html": [
       "<div>\n",
       "<style scoped>\n",
       "    .dataframe tbody tr th:only-of-type {\n",
       "        vertical-align: middle;\n",
       "    }\n",
       "\n",
       "    .dataframe tbody tr th {\n",
       "        vertical-align: top;\n",
       "    }\n",
       "\n",
       "    .dataframe thead th {\n",
       "        text-align: right;\n",
       "    }\n",
       "</style>\n",
       "<table border=\"1\" class=\"dataframe\">\n",
       "  <thead>\n",
       "    <tr style=\"text-align: right;\">\n",
       "      <th></th>\n",
       "      <th>N.description</th>\n",
       "      <th>N.incidentNum</th>\n",
       "      <th>N.labels</th>\n",
       "      <th>id</th>\n",
       "    </tr>\n",
       "  </thead>\n",
       "  <tbody>\n",
       "    <tr>\n",
       "      <th>0</th>\n",
       "      <td>WARRANT ARREST</td>\n",
       "      <td>3979</td>\n",
       "      <td>{INCIDENT}</td>\n",
       "      <td>0</td>\n",
       "    </tr>\n",
       "    <tr>\n",
       "      <th>1</th>\n",
       "      <td>WARRANT ARREST</td>\n",
       "      <td>10128</td>\n",
       "      <td>{INCIDENT}</td>\n",
       "      <td>5</td>\n",
       "    </tr>\n",
       "    <tr>\n",
       "      <th>2</th>\n",
       "      <td>WARRANT ARREST</td>\n",
       "      <td>10736</td>\n",
       "      <td>{INCIDENT}</td>\n",
       "      <td>8</td>\n",
       "    </tr>\n",
       "    <tr>\n",
       "      <th>3</th>\n",
       "      <td>WARRANT ARREST</td>\n",
       "      <td>38261</td>\n",
       "      <td>{INCIDENT}</td>\n",
       "      <td>11</td>\n",
       "    </tr>\n",
       "    <tr>\n",
       "      <th>4</th>\n",
       "      <td>WARRANT ARREST</td>\n",
       "      <td>52205</td>\n",
       "      <td>{INCIDENT}</td>\n",
       "      <td>14</td>\n",
       "    </tr>\n",
       "  </tbody>\n",
       "</table>\n",
       "</div>"
      ],
      "text/plain": [
       "    N.description  N.incidentNum    N.labels  id\n",
       "0  WARRANT ARREST           3979  {INCIDENT}   0\n",
       "1  WARRANT ARREST          10128  {INCIDENT}   5\n",
       "2  WARRANT ARREST          10736  {INCIDENT}   8\n",
       "3  WARRANT ARREST          38261  {INCIDENT}  11\n",
       "4  WARRANT ARREST          52205  {INCIDENT}  14"
      ]
     },
     "execution_count": 6,
     "metadata": {},
     "output_type": "execute_result"
    }
   ],
   "source": [
    "# Un ejemplo de llamada: Queremos 5 nodos de incidentes\n",
    "record = h.select_limit('INCIDENT',5)\n",
    "\n",
    "pd.DataFrame([row for row in record])\n"
   ]
  },
  {
   "cell_type": "markdown",
   "metadata": {},
   "source": [
    "### Propiedades en Neo4J"
   ]
  },
  {
   "cell_type": "markdown",
   "metadata": {},
   "source": [
    "Gracias a esta nueva forma de ordenar los objetos, sabemos que N es un nodo, que lo que procede a 'N.' son sus propiedades (label,description,...) y que todo aquello que no lleve un apodo precediendo no es un elemento **Nodo** o **Relación**.\n",
    "\n",
    "Para demostrar esto último, se puede utilizar la nueva función personalizada **select_custom**, esta admite una query cypher y devuelve lo especificado en la cláusula *RETURN*."
   ]
  },
  {
   "cell_type": "code",
   "execution_count": 7,
   "metadata": {},
   "outputs": [
    {
     "data": {
      "text/html": [
       "<div>\n",
       "<style scoped>\n",
       "    .dataframe tbody tr th:only-of-type {\n",
       "        vertical-align: middle;\n",
       "    }\n",
       "\n",
       "    .dataframe tbody tr th {\n",
       "        vertical-align: top;\n",
       "    }\n",
       "\n",
       "    .dataframe thead th {\n",
       "        text-align: right;\n",
       "    }\n",
       "</style>\n",
       "<table border=\"1\" class=\"dataframe\">\n",
       "  <thead>\n",
       "    <tr style=\"text-align: right;\">\n",
       "      <th></th>\n",
       "      <th>C.day</th>\n",
       "      <th>C.dayofweek</th>\n",
       "      <th>C.labels</th>\n",
       "      <th>C.month</th>\n",
       "      <th>C.name</th>\n",
       "      <th>C.year</th>\n",
       "      <th>N.description</th>\n",
       "      <th>N.incidentNum</th>\n",
       "      <th>N.labels</th>\n",
       "      <th>R.time</th>\n",
       "      <th>R.type</th>\n",
       "    </tr>\n",
       "  </thead>\n",
       "  <tbody>\n",
       "    <tr>\n",
       "      <th>0</th>\n",
       "      <td>NaN</td>\n",
       "      <td>NaN</td>\n",
       "      <td>{RESOLUTION}</td>\n",
       "      <td>NaN</td>\n",
       "      <td>ARREST, BOOKED</td>\n",
       "      <td>NaN</td>\n",
       "      <td>WARRANT ARREST</td>\n",
       "      <td>3979</td>\n",
       "      <td>{INCIDENT}</td>\n",
       "      <td>NaN</td>\n",
       "      <td>STATUS</td>\n",
       "    </tr>\n",
       "    <tr>\n",
       "      <th>1</th>\n",
       "      <td>9.0</td>\n",
       "      <td>Thursday</td>\n",
       "      <td>{DATE}</td>\n",
       "      <td>12.0</td>\n",
       "      <td>NaN</td>\n",
       "      <td>2004.0</td>\n",
       "      <td>WARRANT ARREST</td>\n",
       "      <td>3979</td>\n",
       "      <td>{INCIDENT}</td>\n",
       "      <td>16:22</td>\n",
       "      <td>TIME</td>\n",
       "    </tr>\n",
       "  </tbody>\n",
       "</table>\n",
       "</div>"
      ],
      "text/plain": [
       "   C.day C.dayofweek      C.labels  C.month          C.name  C.year  \\\n",
       "0    NaN         NaN  {RESOLUTION}      NaN  ARREST, BOOKED     NaN   \n",
       "1    9.0    Thursday        {DATE}     12.0             NaN  2004.0   \n",
       "\n",
       "    N.description  N.incidentNum    N.labels R.time  R.type  \n",
       "0  WARRANT ARREST           3979  {INCIDENT}    NaN  STATUS  \n",
       "1  WARRANT ARREST           3979  {INCIDENT}  16:22    TIME  "
      ]
     },
     "execution_count": 7,
     "metadata": {},
     "output_type": "execute_result"
    }
   ],
   "source": [
    "records = h.select_custom('MATCH (N:INCIDENT)-[R]->(C) RETURN N,R,C LIMIT 2')\n",
    "\n",
    "pd.DataFrame([row for row in records])"
   ]
  },
  {
   "cell_type": "markdown",
   "metadata": {},
   "source": [
    "A pesar de que en un dataframe la presentación no es aceptable, esto evita un problema, que es la *confusión de elementos*. Se puede ver perfectamente qué elemento es cual, y qué propiedades les pertenecen. Para poder ordenarlos en el futuro, es posible obtener sus **propiedades**."
   ]
  },
  {
   "cell_type": "code",
   "execution_count": 8,
   "metadata": {},
   "outputs": [
    {
     "name": "stdout",
     "output_type": "stream",
     "text": [
      "row 0 N:['incidentNum', 'description']\n",
      "row 0 C:['name']\n",
      "row 0 R:[]\n",
      "row 1 N:['incidentNum', 'description']\n",
      "row 1 C:['dayofweek', 'day', 'month', 'year']\n",
      "row 1 R:['time']\n"
     ]
    }
   ],
   "source": [
    "# Iteramos sobre sus propiedades gracias a los apodos concedidos anteriormente\n",
    "for i, row in enumerate(records):\n",
    "    for apodo in ['N','C']:\n",
    "        props = h.select_node_properties(row[f'{apodo}.labels'].pop())\n",
    "        print(f'row {i} {apodo}:{props[0][\"properties\"]}')\n",
    "    for apodo in ['R']:\n",
    "        props = h.select_relationship_properties(row[f'{apodo}.type'])\n",
    "        print(f'row {i} {apodo}:{props[0][\"properties\"]}')"
   ]
  },
  {
   "cell_type": "markdown",
   "metadata": {},
   "source": [
    "## Representación de actividades criminales\n",
    "\n",
    "Y con estas, iterar sobre los valores anteriores. Por tanto, el potencial de tener acceso a los nombres de las sentencias originales es ilimitado. Podemos comprobar esto con una de las sentencias originales de la parte de procesamiento en la cual se recogen las inidencias por año:"
   ]
  },
  {
   "cell_type": "code",
   "execution_count": 9,
   "metadata": {},
   "outputs": [
    {
     "data": {
      "text/plain": [
       "[<matplotlib.lines.Line2D at 0x153d6bb0>]"
      ]
     },
     "execution_count": 9,
     "metadata": {},
     "output_type": "execute_result"
    },
    {
     "data": {
      "image/png": "[encoded data removed]",
      "text/plain": [
       "<Figure size 432x288 with 1 Axes>"
      ]
     },
     "metadata": {},
     "output_type": "display_data"
    }
   ],
   "source": [
    "# Iteramos sobre los valores obtenidos...\n",
    "records = h.select_custom('MATCH (n:INCIDENT)-->(s:DATE) return s.year as Year ,count(n) as Ocurrences ORDER BY Year')\n",
    "\n",
    "year = list()\n",
    "ocur = list()\n",
    "\n",
    "for dic in iter(records):\n",
    "    year.append(dic['Year'])\n",
    "    ocur.append(dic['Ocurrences'])\n",
    "    \n",
    "plt.plot(year, ocur)\n",
    "    "
   ]
  }
 ],
 "metadata": {
  "kernelspec": {
   "display_name": "Python 3",
   "language": "python",
   "name": "python3"
  },
  "language_info": {
   "codemirror_mode": {
    "name": "ipython",
    "version": 3
   },
   "file_extension": ".py",
   "mimetype": "text/x-python",
   "name": "python",
   "nbconvert_exporter": "python",
   "pygments_lexer": "ipython3",
   "version": "3.6.3"
  }
 },
 "nbformat": 4,
 "nbformat_minor": 2
}
