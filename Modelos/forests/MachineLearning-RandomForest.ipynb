{
 "cells": [
  {
   "cell_type": "markdown",
   "metadata": {},
   "source": [
    "# Machine Learning - Random Forest"
   ]
  },
  {
   "cell_type": "code",
   "execution_count": 8,
   "metadata": {},
   "outputs": [
    {
     "name": "stdout",
     "output_type": "stream",
     "text": [
      "Python: 3.6.4 |Anaconda, Inc.| (default, Jan 16 2018, 10:22:32) [MSC v.1900 64 bit (AMD64)]\n",
      "scipy: 1.0.1\n",
      "numpy: 1.14.2\n",
      "matplotlib: 2.2.2\n",
      "pandas: 0.22.0\n",
      "sklearn: 0.19.1\n",
      "pymongo: 3.4.0\n"
     ]
    }
   ],
   "source": [
    "import sys\n",
    "print('Python: {}'.format(sys.version))\n",
    "# scipy\n",
    "import scipy\n",
    "print('scipy: {}'.format(scipy.__version__))\n",
    "# numpy\n",
    "import numpy\n",
    "print('numpy: {}'.format(numpy.__version__))\n",
    "# matplotlib\n",
    "import matplotlib\n",
    "print('matplotlib: {}'.format(matplotlib.__version__))\n",
    "# pandas\n",
    "import pandas as pd\n",
    "print('pandas: {}'.format(pandas.__version__))\n",
    "# scikit-learn\n",
    "import sklearn\n",
    "print('sklearn: {}'.format(sklearn.__version__))\n",
    "# pymongo\n",
    "import pymongo\n",
    "print('pymongo: {}'.format(pymongo.__version__))"
   ]
  },
  {
   "cell_type": "code",
   "execution_count": 53,
   "metadata": {},
   "outputs": [],
   "source": [
    "import warnings\n",
    "warnings.filterwarnings('ignore')"
   ]
  },
  {
   "cell_type": "markdown",
   "metadata": {},
   "source": [
    "################################## Load Specific libraries ####################################################"
   ]
  },
  {
   "cell_type": "code",
   "execution_count": 58,
   "metadata": {},
   "outputs": [],
   "source": [
    "from pandas.plotting import scatter_matrix\n",
    "import matplotlib.pyplot as plt\n",
    "from sklearn import model_selection\n",
    "from sklearn.metrics import classification_report\n",
    "from sklearn.metrics import confusion_matrix\n",
    "from sklearn.metrics import accuracy_score\n",
    "from sklearn.linear_model import LogisticRegression\n",
    "# from sklearn.tree import DecisionTreeClassifier\n",
    "from sklearn.ensemble import RandomForestClassifier\n",
    "from sklearn.neighbors import KNeighborsClassifier\n",
    "from sklearn.discriminant_analysis import LinearDiscriminantAnalysis\n",
    "from sklearn.naive_bayes import GaussianNB\n",
    "from sklearn.svm import SVC\n",
    "from sklearn import preprocessing\n",
    "from pymongo import MongoClient"
   ]
  },
  {
   "cell_type": "markdown",
   "metadata": {},
   "source": [
    "# Load dataset"
   ]
  },
  {
   "cell_type": "code",
   "execution_count": 55,
   "metadata": {},
   "outputs": [],
   "source": [
    "client = MongoClient('localhost', 27017)\n",
    "db = client.datascience\n",
    "collection = db.incidents"
   ]
  },
  {
   "cell_type": "markdown",
   "metadata": {},
   "source": [
    "## Expand the cursor and construct the DataFrame"
   ]
  },
  {
   "cell_type": "code",
   "execution_count": 27,
   "metadata": {},
   "outputs": [],
   "source": [
    "cursor = collection.find()\n",
    "incidents = pd.DataFrame(list(cursor))"
   ]
  },
  {
   "cell_type": "markdown",
   "metadata": {},
   "source": [
    "## Delete the _id\n"
   ]
  },
  {
   "cell_type": "code",
   "execution_count": 28,
   "metadata": {},
   "outputs": [],
   "source": [
    " if no_id:\n",
    "     del incidents['_id']\n",
    "\n",
    " return incidents"
   ]
  },
  {
   "cell_type": "markdown",
   "metadata": {},
   "source": [
    "## Cargaremos un csv de 2018 (menos datos)"
   ]
  },
  {
   "cell_type": "code",
   "execution_count": 23,
   "metadata": {},
   "outputs": [],
   "source": [
    "incidents = pd.read_csv(\"Incidents2017.csv\")"
   ]
  },
  {
   "cell_type": "markdown",
   "metadata": {},
   "source": [
    "## shape. Dimensions of Dataset"
   ]
  },
  {
   "cell_type": "code",
   "execution_count": 25,
   "metadata": {},
   "outputs": [
    {
     "name": "stdout",
     "output_type": "stream",
     "text": [
      "(154773, 13)\n"
     ]
    }
   ],
   "source": [
    "print(incidents.shape)"
   ]
  },
  {
   "cell_type": "markdown",
   "metadata": {},
   "source": [
    "## head"
   ]
  },
  {
   "cell_type": "code",
   "execution_count": 26,
   "metadata": {},
   "outputs": [
    {
     "name": "stdout",
     "output_type": "stream",
     "text": [
      "    IncidntNum                Category  \\\n",
      "0    170670575               EXTORTION   \n",
      "1    170670575         SECONDARY CODES   \n",
      "2    170644871          OTHER OFFENSES   \n",
      "3    170635870          MISSING PERSON   \n",
      "4    170616046                 ASSAULT   \n",
      "5    170605817      DISORDERLY CONDUCT   \n",
      "6    170604449           LARCENY/THEFT   \n",
      "7    170591103            NON-CRIMINAL   \n",
      "8    170583332          OTHER OFFENSES   \n",
      "9    170572868           LARCENY/THEFT   \n",
      "10   170572307                 ASSAULT   \n",
      "11   170565437                BURGLARY   \n",
      "12   170533616                   FRAUD   \n",
      "13   170527017  SEX OFFENSES, FORCIBLE   \n",
      "14   170514133          SUSPICIOUS OCC   \n",
      "15   170465285            NON-CRIMINAL   \n",
      "16   170451814            NON-CRIMINAL   \n",
      "17   170451109                   FRAUD   \n",
      "18   170442158         SECONDARY CODES   \n",
      "19   170442158                 ASSAULT   \n",
      "\n",
      "                                             Descript DayOfWeek        Date  \\\n",
      "0                                 ATTEMPTED EXTORTION    Sunday  01/01/2017   \n",
      "1                                   DOMESTIC VIOLENCE    Sunday  01/01/2017   \n",
      "2      FALSE PERSONATION TO RECEIVE MONEY OR PROPERTY    Sunday  01/01/2017   \n",
      "3                                       MISSING ADULT    Sunday  01/01/2017   \n",
      "4       BATTERY, FORMER SPOUSE OR DATING RELATIONSHIP    Sunday  01/01/2017   \n",
      "5                                DISTURBING THE PEACE    Sunday  01/01/2017   \n",
      "6   EMBEZZLEMENT FROM DEPENDENT OR ELDER ADULT BY ...    Sunday  01/01/2017   \n",
      "7                                       LOST PROPERTY    Sunday  01/01/2017   \n",
      "8                                   FALSE PERSONATION    Sunday  01/01/2017   \n",
      "9                         GRAND THEFT FROM A BUILDING    Sunday  01/01/2017   \n",
      "10                           WILLFUL CRUELTY TO CHILD    Sunday  01/01/2017   \n",
      "11                           BURGLARY, FORCIBLE ENTRY    Sunday  01/01/2017   \n",
      "12                       CREDIT CARD, THEFT BY USE OF    Sunday  01/01/2017   \n",
      "13                                     SEXUAL BATTERY    Sunday  01/01/2017   \n",
      "14                              SUSPICIOUS OCCURRENCE    Sunday  01/01/2017   \n",
      "15                                     FOUND PROPERTY    Sunday  01/01/2017   \n",
      "16                                      LOST PROPERTY    Sunday  01/01/2017   \n",
      "17                      FRAUDULENT CREDIT APPLICATION    Sunday  01/01/2017   \n",
      "18                                  DOMESTIC VIOLENCE    Sunday  01/01/2017   \n",
      "19                        INFLICT INJURY ON COHABITEE    Sunday  01/01/2017   \n",
      "\n",
      "     Time  PdDistrict Resolution                      Address           X  \\\n",
      "0   00:01    SOUTHERN       NONE        300 Block of SPEAR ST -122.390234   \n",
      "1   00:01    SOUTHERN       NONE        300 Block of SPEAR ST -122.390234   \n",
      "2   12:00     BAYVIEW       NONE  400 Block of CONNECTICUT ST -122.397378   \n",
      "3   08:00    RICHMOND       NONE          400 Block of 6TH AV -122.464280   \n",
      "4   10:00     MISSION       NONE        3200 Block of 26TH ST -122.414593   \n",
      "5   01:30        PARK       NONE     0 Block of LAKEFOREST CT -122.459893   \n",
      "6   00:01    RICHMOND       NONE          500 Block of 2ND AV -122.459722   \n",
      "7   12:00     BAYVIEW       NONE   2500 Block of SAN BRUNO AV -122.404407   \n",
      "8   00:01     BAYVIEW       NONE   1100 Block of WISCONSIN ST -122.398473   \n",
      "9   00:01    SOUTHERN       NONE      300 Block of MISSION ST -122.396211   \n",
      "10  00:01        PARK       NONE      1800 Block of WALLER ST -122.454330   \n",
      "11  00:01  TENDERLOIN       NONE  200 Block of GOLDEN GATE AV -122.415083   \n",
      "12  08:00   INGLESIDE       NONE   3800 Block of SAN BRUNO AV -122.401762   \n",
      "13  00:01     MISSION       NONE     100 Block of GUERRERO ST -122.424582   \n",
      "14  13:00   INGLESIDE       NONE          0 Block of FOOTE AV -122.445052   \n",
      "15  00:01    SOUTHERN       NONE      1200 Block of MARKET ST -122.415449   \n",
      "16  00:01    RICHMOND       NONE       5100 Block of GEARY BL -122.474537   \n",
      "17  15:00     TARAVAL       NONE        1400 Block of 45TH AV -122.504721   \n",
      "18  12:01     BAYVIEW       NONE         1200 Block of 3RD ST -122.389518   \n",
      "19  12:01     BAYVIEW       NONE         1200 Block of 3RD ST -122.389518   \n",
      "\n",
      "            Y                                   Location            PdId  \n",
      "0   37.789403  (37.789403265990444, -122.39023428729251)  17067057526040  \n",
      "1   37.789403  (37.789403265990444, -122.39023428729251)  17067057515200  \n",
      "2   37.760588   (37.760588396207226, -122.3973781477237)  17064487109029  \n",
      "3   37.780033  (37.780033299100644, -122.46427987944624)  17063587074000  \n",
      "4   37.749199    (37.7491990535295, -122.41459317110352)  17061604604138  \n",
      "5   37.754792  (37.754791646857264, -122.45989307989882)  17060581719022  \n",
      "6   37.778342   (37.77834165784467, -122.45972220947745)  17060444906381  \n",
      "7   37.729408   (37.72940755917532, -122.40440718956097)  17059110371000  \n",
      "8   37.753148    (37.75314834602312, -122.3984731227604)  17058333209027  \n",
      "9   37.790761      (37.790761361966, -122.3962111540381)  17057286806304  \n",
      "10  37.768153   (37.76815301111592, -122.45433010539584)  17057230715100  \n",
      "11  37.781652  (37.781652445717505, -122.41508317779949)  17056543705071  \n",
      "12  37.714524   (37.71452361297482, -122.40176175711419)  17053361609320  \n",
      "13  37.768544   (37.76854434073097, -122.42458239880908)  17052701704144  \n",
      "14  37.712948   (37.71294771749951, -122.44505165759051)  17051413364070  \n",
      "15  37.778294  (37.778293520129026, -122.41544875956173)  17046528572000  \n",
      "16  37.780435  (37.780434756690276, -122.47453735746846)  17045181471000  \n",
      "17  37.759524   (37.75952426807323, -122.50472074943889)  17045110909340  \n",
      "18  37.772468   (37.77246824000607, -122.38951764803554)  17044215815200  \n",
      "19  37.772468   (37.77246824000607, -122.38951764803554)  17044215815040  \n"
     ]
    }
   ],
   "source": [
    "print(incidents.head(20))"
   ]
  },
  {
   "cell_type": "markdown",
   "metadata": {},
   "source": [
    "## Statistical summary. descriptions"
   ]
  },
  {
   "cell_type": "code",
   "execution_count": 30,
   "metadata": {},
   "outputs": [
    {
     "name": "stdout",
     "output_type": "stream",
     "text": [
      "         IncidntNum              X              Y          PdId\n",
      "count  1.547730e+05  154773.000000  154773.000000  1.547730e+05\n",
      "mean   1.718220e+08    -122.424253      37.768941  1.718220e+13\n",
      "std    4.221544e+06       0.026587       0.023565  4.221544e+11\n",
      "min    1.700554e+07    -122.513642      37.707922  1.700554e+12\n",
      "25%    1.703404e+08    -122.434308      37.756438  1.703404e+13\n",
      "50%    1.706792e+08    -122.417488      37.775421  1.706792e+13\n",
      "75%    1.710148e+08    -122.406844      37.785029  1.710148e+13\n",
      "max    9.000079e+08    -122.365565      37.819975  9.000079e+13\n"
     ]
    }
   ],
   "source": [
    "print(incidents.describe())"
   ]
  },
  {
   "cell_type": "markdown",
   "metadata": {},
   "source": [
    "## Class Distribution"
   ]
  },
  {
   "cell_type": "code",
   "execution_count": 34,
   "metadata": {},
   "outputs": [
    {
     "name": "stdout",
     "output_type": "stream",
     "text": [
      "Category\n",
      "ARSON                            327\n",
      "ASSAULT                        13655\n",
      "BAD CHECKS                        24\n",
      "BRIBERY                           67\n",
      "BURGLARY                        5857\n",
      "DISORDERLY CONDUCT               399\n",
      "DRIVING UNDER THE INFLUENCE      299\n",
      "DRUG/NARCOTIC                   3308\n",
      "DRUNKENNESS                      339\n",
      "EMBEZZLEMENT                     178\n",
      "EXTORTION                         63\n",
      "FAMILY OFFENSES                   44\n",
      "FORGERY/COUNTERFEITING           509\n",
      "FRAUD                           2551\n",
      "GAMBLING                          14\n",
      "KIDNAPPING                       207\n",
      "LARCENY/THEFT                  47826\n",
      "LIQUOR LAWS                       77\n",
      "LOITERING                         32\n",
      "MISSING PERSON                  4487\n",
      "NON-CRIMINAL                   17368\n",
      "OTHER OFFENSES                 18316\n",
      "PORNOGRAPHY/OBSCENE MAT            6\n",
      "PROSTITUTION                     527\n",
      "RECOVERED VEHICLE                718\n",
      "ROBBERY                         3351\n",
      "RUNAWAY                          248\n",
      "SECONDARY CODES                 2039\n",
      "SEX OFFENSES, FORCIBLE          1049\n",
      "SEX OFFENSES, NON FORCIBLE        44\n",
      "STOLEN PROPERTY                  820\n",
      "SUICIDE                           84\n",
      "SUSPICIOUS OCC                  6119\n",
      "TREA                               1\n",
      "TRESPASS                        1613\n",
      "VANDALISM                       9765\n",
      "VEHICLE THEFT                   5732\n",
      "WARRANTS                        5020\n",
      "WEAPON LAWS                     1690\n",
      "dtype: int64\n"
     ]
    }
   ],
   "source": [
    "print(incidents.groupby('Category').size())"
   ]
  },
  {
   "cell_type": "markdown",
   "metadata": {},
   "source": [
    "## 1.- Create a Validation Dataset\n",
    "\n",
    "### We will split the loaded dataset into two, 80% of which we will use to train our models and 20% that we will hold back as a validation dataset."
   ]
  },
  {
   "cell_type": "markdown",
   "metadata": {},
   "source": [
    "## Split-out validation dataset"
   ]
  },
  {
   "cell_type": "code",
   "execution_count": 43,
   "metadata": {},
   "outputs": [],
   "source": [
    "from sklearn.model_selection import train_test_split\n",
    "train, test = train_test_split(incidents, test_size=0.2)"
   ]
  },
  {
   "cell_type": "code",
   "execution_count": 44,
   "metadata": {},
   "outputs": [
    {
     "data": {
      "text/plain": [
       "(123818, 13)"
      ]
     },
     "execution_count": 44,
     "metadata": {},
     "output_type": "execute_result"
    }
   ],
   "source": [
    "train.shape"
   ]
  },
  {
   "cell_type": "code",
   "execution_count": 45,
   "metadata": {},
   "outputs": [
    {
     "data": {
      "text/plain": [
       "(30955, 13)"
      ]
     },
     "execution_count": 45,
     "metadata": {},
     "output_type": "execute_result"
    }
   ],
   "source": [
    "test.shape"
   ]
  },
  {
   "cell_type": "code",
   "execution_count": 46,
   "metadata": {},
   "outputs": [],
   "source": [
    "weekdays = {'Monday':0., 'Tuesday':1., 'Wednesday':2., 'Thursday': 3., 'Friday':4., 'Saturday':5., 'Sunday':6.}\n",
    "categories = {c:i for i,c in enumerate(train['Category'].unique())}\n",
    "cat_rev = {i:c for i,c in enumerate(train['Category'].unique())}\n",
    "districts = {c:i for i,c in enumerate(train['PdDistrict'].unique())}\n",
    "dis_rev = {i:c for i,c in enumerate(train['PdDistrict'].unique())}"
   ]
  },
  {
   "cell_type": "markdown",
   "metadata": {},
   "source": [
    "## Extract features from given information"
   ]
  },
  {
   "cell_type": "code",
   "execution_count": 81,
   "metadata": {},
   "outputs": [],
   "source": [
    "train['Hour'] = list(map(lambda x: float(int(x.split(' ')[0].split(':')[0])),train.Time))\n",
    "test['Hour'] = list(map(lambda x: float(int(x.split(' ')[0].split(':')[0])),test.Time))\n",
    "\n",
    "train['Minute'] = list(map(lambda x: float(int(x.split(' ')[0].split(':')[1])),train.Time))\n",
    "test['Minute'] = list(map(lambda x: float(int(x.split(' ')[0].split(':')[1])),test.Time))\n",
    "\n",
    "train['Month'] = list(map(lambda x: float(x.split(' ')[0].split('/')[1]), train.Date))\n",
    "test['Month'] = list(map(lambda x: float(x.split(' ')[0].split('/')[1]), test.Date))\n",
    "\n",
    "train['Year'] = list(map(lambda x: float(x.split(' ')[0].split('/')[2])-2003., train.Date))\n",
    "test['Year'] = list(map(lambda x: float(x.split(' ')[0].split('/')[2])-2003., test.Date))\n",
    "\n",
    "train['Day'] = list(map(lambda x: float(x.split(' ')[0].split('/')[0]), train.Date))\n",
    "test['Day'] = list(map(lambda x: float(x.split(' ')[0].split('/')[0]), test.Date))\n",
    "\n",
    "train['Day_Num'] = [float(weekdays[w]) for w in train.DayOfWeek]\n",
    "test['Day_Num'] = [float(weekdays[w]) for w in test.DayOfWeek]\n",
    "\n",
    "train['District_Num'] = [float(districts[t]) for t in train.PdDistrict]\n",
    "test['District_Num'] = [float(districts[t]) for t in test.PdDistrict]\n",
    "\n",
    "train['Category_Num'] = [float(categories[t]) for t in train.Category]\n",
    "test['Category_Num'] = [float(categories[t]) for t in test.Category]"
   ]
  },
  {
   "cell_type": "markdown",
   "metadata": {},
   "source": [
    "## Center X,Y coordinates"
   ]
  },
  {
   "cell_type": "code",
   "execution_count": 71,
   "metadata": {},
   "outputs": [],
   "source": [
    "train['X'] = preprocessing.scale(list(map(lambda x: x+122.4194, train.X)))\n",
    "train['Y'] = preprocessing.scale(list(map(lambda x: x-37.7749, train.Y)))\n",
    "\n",
    "test['X'] = preprocessing.scale(list(map(lambda x: x+122.4194, test.X)))\n",
    "test['Y'] = preprocessing.scale(list(map(lambda x: x-37.7749, test.Y)))"
   ]
  },
  {
   "cell_type": "markdown",
   "metadata": {},
   "source": [
    "## Assign binary value to address by type"
   ]
  },
  {
   "cell_type": "code",
   "execution_count": 72,
   "metadata": {},
   "outputs": [],
   "source": [
    "def define_address(addr):\n",
    "    addr_type = 0.\n",
    "    # Address types:\n",
    "    #  Intersection: 1\n",
    "    #  Residence: 0\n",
    "    if '/' in addr and 'of' not in addr:\n",
    "        addr_type = 1.\n",
    "    else:\n",
    "        add_type = 0.\n",
    "    return addr_type"
   ]
  },
  {
   "cell_type": "markdown",
   "metadata": {},
   "source": [
    "## Define address feature"
   ]
  },
  {
   "cell_type": "code",
   "execution_count": 73,
   "metadata": {},
   "outputs": [],
   "source": [
    "train['Address_Num'] = list(map(define_address, train.Address))\n",
    "test['Address_Num'] = list(map(define_address, test.Address))"
   ]
  },
  {
   "cell_type": "markdown",
   "metadata": {},
   "source": [
    "## Feature selection"
   ]
  },
  {
   "cell_type": "code",
   "execution_count": 74,
   "metadata": {},
   "outputs": [],
   "source": [
    "X_loc = ['X', 'Y', 'District_Num', 'Address_Num']\n",
    "X_time = ['Minute', 'Hour']\n",
    "X_date = ['Year','Month', 'Day', 'Day_Num']\n",
    "X_all = X_loc + X_time + X_date"
   ]
  },
  {
   "cell_type": "markdown",
   "metadata": {},
   "source": [
    "## Category column we want to predict"
   ]
  },
  {
   "cell_type": "code",
   "execution_count": 75,
   "metadata": {},
   "outputs": [],
   "source": [
    "y = 'Category_Num'"
   ]
  },
  {
   "cell_type": "code",
   "execution_count": 76,
   "metadata": {},
   "outputs": [
    {
     "name": "stdout",
     "output_type": "stream",
     "text": [
      "        IncidntNum         Category  \\\n",
      "84114    170576484    LARCENY/THEFT   \n",
      "15060    170103093  SECONDARY CODES   \n",
      "11226    176024112        VANDALISM   \n",
      "109196   170766124   OTHER OFFENSES   \n",
      "134931   170923023         WARRANTS   \n",
      "\n",
      "                                              Descript  DayOfWeek        Date  \\\n",
      "84114                     PETTY THEFT FROM LOCKED AUTO   Saturday  07/15/2017   \n",
      "15060                                DOMESTIC VIOLENCE     Sunday  02/05/2017   \n",
      "11226                    MALICIOUS MISCHIEF, VANDALISM     Friday  01/27/2017   \n",
      "109196  FALSE PERSONATION TO RECEIVE MONEY OR PROPERTY  Wednesday  09/13/2017   \n",
      "134931                                  WARRANT ARREST     Sunday  11/12/2017   \n",
      "\n",
      "         Time PdDistrict      Resolution                      Address  \\\n",
      "84114   16:00   NORTHERN            NONE       400 Block of FULTON ST   \n",
      "15060   20:42  INGLESIDE  ARREST, BOOKED  1000 Block of VISITACION AV   \n",
      "11226   20:00    MISSION            NONE      400 Block of DOLORES ST   \n",
      "109196  00:01    MISSION            NONE        3900 Block of 23RD ST   \n",
      "134931  14:20   NORTHERN  ARREST, BOOKED        1000 Block of POLK ST   \n",
      "\n",
      "               X   ...              PdId Month  Year   Day  Day_Num  \\\n",
      "84114   0.003537   ...    17057648406243  15.0  14.0   7.0      5.0   \n",
      "15060   0.562894   ...    17010309315200   5.0  14.0   2.0      6.0   \n",
      "11226  -0.077726   ...    17602411228150  27.0  14.0   1.0      4.0   \n",
      "109196 -0.250378   ...    17076612409029  13.0  14.0   9.0      2.0   \n",
      "134931  0.166122   ...    17092302363010  12.0  14.0  11.0      6.0   \n",
      "\n",
      "        District_Num  Category_Num  Address_Num  Hour  Minute  \n",
      "84114            0.0           0.0          0.0  16.0     0.0  \n",
      "15060            1.0           1.0          0.0  20.0    42.0  \n",
      "11226            2.0           2.0          0.0  20.0     0.0  \n",
      "109196           2.0           3.0          0.0   0.0     1.0  \n",
      "134931           0.0           4.0          0.0  14.0    20.0  \n",
      "\n",
      "[5 rows x 22 columns]\n"
     ]
    }
   ],
   "source": [
    "print(train.head())"
   ]
  },
  {
   "cell_type": "markdown",
   "metadata": {},
   "source": [
    "## Create random forest classifier"
   ]
  },
  {
   "cell_type": "code",
   "execution_count": 77,
   "metadata": {},
   "outputs": [],
   "source": [
    "clf = RandomForestClassifier(max_features=\"log2\", max_depth=11, n_estimators=24,\n",
    "                             min_samples_split=1000, oob_score=True)"
   ]
  },
  {
   "cell_type": "markdown",
   "metadata": {},
   "source": [
    "## Fit prediction"
   ]
  },
  {
   "cell_type": "code",
   "execution_count": 78,
   "metadata": {},
   "outputs": [],
   "source": [
    "clf.fit(train[X_all], train[y])\n",
    "pred = clf.predict_proba(test[X_all])"
   ]
  },
  {
   "cell_type": "code",
   "execution_count": null,
   "metadata": {},
   "outputs": [],
   "source": []
  }
 ],
 "metadata": {
  "kernelspec": {
   "display_name": "Python 3",
   "language": "python",
   "name": "python3"
  },
  "language_info": {
   "codemirror_mode": {
    "name": "ipython",
    "version": 3
   },
   "file_extension": ".py",
   "mimetype": "text/x-python",
   "name": "python",
   "nbconvert_exporter": "python",
   "pygments_lexer": "ipython3",
   "version": "3.6.4"
  }
 },
 "nbformat": 4,
 "nbformat_minor": 2
}
